{
 "cells": [
  {
   "cell_type": "code",
   "execution_count": 1,
   "metadata": {
    "collapsed": true
   },
   "outputs": [],
   "source": [
    "import pandas"
   ]
  },
  {
   "cell_type": "code",
   "execution_count": 2,
   "metadata": {
    "collapsed": true
   },
   "outputs": [],
   "source": [
    "pandas.read_excel?"
   ]
  },
  {
   "cell_type": "code",
   "execution_count": 26,
   "metadata": {
    "collapsed": true
   },
   "outputs": [],
   "source": [
    "df=pandas.read_excel(\"master_nodes.xlsx\",sheetname=\"Nodes\")"
   ]
  },
  {
   "cell_type": "code",
   "execution_count": 27,
   "metadata": {
    "collapsed": true
   },
   "outputs": [],
   "source": [
    "import openpyxl\n",
    "pandas.ExcelWriter?\n",
    "df.to_excel?"
   ]
  },
  {
   "cell_type": "code",
   "execution_count": 22,
   "metadata": {},
   "outputs": [
    {
     "data": {
      "text/html": [
       "<div>\n",
       "<style>\n",
       "    .dataframe thead tr:only-child th {\n",
       "        text-align: right;\n",
       "    }\n",
       "\n",
       "    .dataframe thead th {\n",
       "        text-align: left;\n",
       "    }\n",
       "\n",
       "    .dataframe tbody tr th {\n",
       "        vertical-align: top;\n",
       "    }\n",
       "</style>\n",
       "<table border=\"1\" class=\"dataframe\">\n",
       "  <thead>\n",
       "    <tr style=\"text-align: right;\">\n",
       "      <th></th>\n",
       "      <th>FROM</th>\n",
       "      <th>TO</th>\n",
       "      <th>FROM NODE ID</th>\n",
       "      <th>TO NODE ID</th>\n",
       "      <th>FROM NODE TYPE</th>\n",
       "      <th>TO NODE TYPE</th>\n",
       "      <th>LINK ID</th>\n",
       "      <th>Distance</th>\n",
       "      <th>AMPLIFIERS NODES</th>\n",
       "      <th>AMPLIFIERS TYPE</th>\n",
       "    </tr>\n",
       "  </thead>\n",
       "  <tbody>\n",
       "    <tr>\n",
       "      <th>0</th>\n",
       "      <td>Hyderabad</td>\n",
       "      <td>Vishakapatnam</td>\n",
       "      <td>2</td>\n",
       "      <td>7</td>\n",
       "      <td>S</td>\n",
       "      <td>S</td>\n",
       "      <td>12</td>\n",
       "      <td>100</td>\n",
       "      <td>None</td>\n",
       "      <td>None</td>\n",
       "    </tr>\n",
       "    <tr>\n",
       "      <th>1</th>\n",
       "      <td>Mumbai</td>\n",
       "      <td>Pune</td>\n",
       "      <td>3</td>\n",
       "      <td>8</td>\n",
       "      <td>M</td>\n",
       "      <td>M</td>\n",
       "      <td>13</td>\n",
       "      <td>200</td>\n",
       "      <td>None</td>\n",
       "      <td>None</td>\n",
       "    </tr>\n",
       "    <tr>\n",
       "      <th>2</th>\n",
       "      <td>Chennai</td>\n",
       "      <td>Thanjavur</td>\n",
       "      <td>4</td>\n",
       "      <td>9</td>\n",
       "      <td>T</td>\n",
       "      <td>T</td>\n",
       "      <td>14</td>\n",
       "      <td>300</td>\n",
       "      <td>None</td>\n",
       "      <td>None</td>\n",
       "    </tr>\n",
       "    <tr>\n",
       "      <th>3</th>\n",
       "      <td>Kochi</td>\n",
       "      <td>Coimbatore</td>\n",
       "      <td>5</td>\n",
       "      <td>10</td>\n",
       "      <td>S</td>\n",
       "      <td>S</td>\n",
       "      <td>15</td>\n",
       "      <td>400</td>\n",
       "      <td>None</td>\n",
       "      <td>None</td>\n",
       "    </tr>\n",
       "    <tr>\n",
       "      <th>4</th>\n",
       "      <td>Bengaluru</td>\n",
       "      <td>Mysuru</td>\n",
       "      <td>1</td>\n",
       "      <td>6</td>\n",
       "      <td>L</td>\n",
       "      <td>L</td>\n",
       "      <td>11</td>\n",
       "      <td>500</td>\n",
       "      <td>Ramanagara, Madduru</td>\n",
       "      <td>A, B</td>\n",
       "    </tr>\n",
       "  </tbody>\n",
       "</table>\n",
       "</div>"
      ],
      "text/plain": [
       "        FROM             TO  FROM NODE ID  TO NODE ID FROM NODE TYPE  \\\n",
       "0  Hyderabad  Vishakapatnam             2           7              S   \n",
       "1     Mumbai           Pune             3           8              M   \n",
       "2    Chennai      Thanjavur             4           9              T   \n",
       "3      Kochi     Coimbatore             5          10              S   \n",
       "4  Bengaluru         Mysuru             1           6              L   \n",
       "\n",
       "  TO NODE TYPE  LINK ID  Distance     AMPLIFIERS NODES AMPLIFIERS TYPE  \n",
       "0            S       12       100                 None            None  \n",
       "1            M       13       200                 None            None  \n",
       "2            T       14       300                 None            None  \n",
       "3            S       15       400                 None            None  \n",
       "4            L       11       500  Ramanagara, Madduru            A, B  "
      ]
     },
     "execution_count": 22,
     "metadata": {},
     "output_type": "execute_result"
    }
   ],
   "source": [
    "df"
   ]
  },
  {
   "cell_type": "code",
   "execution_count": null,
   "metadata": {
    "collapsed": true
   },
   "outputs": [],
   "source": []
  },
  {
   "cell_type": "code",
   "execution_count": 17,
   "metadata": {
    "collapsed": true
   },
   "outputs": [],
   "source": []
  },
  {
   "cell_type": "code",
   "execution_count": 23,
   "metadata": {
    "collapsed": true
   },
   "outputs": [],
   "source": [
    "Writer = pandas.ExcelWriter(\"master_nodes.xlsx\",engine='xlsxwriter')\n",
    "df.to_excel(Writer,sheet_name=\"Nodes_metadata\")\n",
    "Writer.save()"
   ]
  },
  {
   "cell_type": "code",
   "execution_count": 30,
   "metadata": {
    "collapsed": true
   },
   "outputs": [],
   "source": [
    "import pandas\n",
    "from openpyxl import load_workbook\n",
    "\n",
    "book = load_workbook('master_nodes.xlsx')\n",
    "writer = pandas.ExcelWriter('master_nodes.xlsx', engine='openpyxl') \n",
    "writer.book = book\n",
    "writer.sheets = dict((ws.title, ws) for ws in book.worksheets)\n",
    "df.to_excel(writer, \"Nodes_metadata\")\n",
    "writer.save()"
   ]
  },
  {
   "cell_type": "code",
   "execution_count": 59,
   "metadata": {
    "collapsed": true
   },
   "outputs": [],
   "source": [
    "df=pandas.read_excel(\"master_nodes.xlsx\",sheetname=\"Nodes_metadata\")"
   ]
  },
  {
   "cell_type": "code",
   "execution_count": 60,
   "metadata": {},
   "outputs": [
    {
     "data": {
      "text/html": [
       "<div>\n",
       "<style>\n",
       "    .dataframe thead tr:only-child th {\n",
       "        text-align: right;\n",
       "    }\n",
       "\n",
       "    .dataframe thead th {\n",
       "        text-align: left;\n",
       "    }\n",
       "\n",
       "    .dataframe tbody tr th {\n",
       "        vertical-align: top;\n",
       "    }\n",
       "</style>\n",
       "<table border=\"1\" class=\"dataframe\">\n",
       "  <thead>\n",
       "    <tr style=\"text-align: right;\">\n",
       "      <th></th>\n",
       "      <th>FROM_EDITED</th>\n",
       "      <th>TO_EDITED</th>\n",
       "      <th>FROM_COORDINATES</th>\n",
       "      <th>TO_COORDINATES</th>\n",
       "    </tr>\n",
       "  </thead>\n",
       "  <tbody>\n",
       "    <tr>\n",
       "      <th>0</th>\n",
       "      <td>Hyderabad, India</td>\n",
       "      <td>Vishakapatnam, India</td>\n",
       "      <td>[17.41500345, 78.4193658848225]</td>\n",
       "      <td>[17.72131135, 83.2900511199386]</td>\n",
       "    </tr>\n",
       "    <tr>\n",
       "      <th>1</th>\n",
       "      <td>Mumbai, India</td>\n",
       "      <td>Pune, India</td>\n",
       "      <td>[18.9321862, 72.8308337]</td>\n",
       "      <td>[18.5203062, 73.8543185]</td>\n",
       "    </tr>\n",
       "    <tr>\n",
       "      <th>2</th>\n",
       "      <td>Chennai, India</td>\n",
       "      <td>Thanjavur, India</td>\n",
       "      <td>[13.0801721, 80.2838331]</td>\n",
       "      <td>[10.7860689, 79.1381282]</td>\n",
       "    </tr>\n",
       "    <tr>\n",
       "      <th>3</th>\n",
       "      <td>Kochi, India</td>\n",
       "      <td>Coimbatore, India</td>\n",
       "      <td>[9.9633864, 76.2536614]</td>\n",
       "      <td>[11.0018115, 76.9628425]</td>\n",
       "    </tr>\n",
       "    <tr>\n",
       "      <th>4</th>\n",
       "      <td>Bengaluru, India</td>\n",
       "      <td>Mysuru, India</td>\n",
       "      <td>[12.9791198, 77.5912997]</td>\n",
       "      <td>[12.3051828, 76.6553609]</td>\n",
       "    </tr>\n",
       "  </tbody>\n",
       "</table>\n",
       "</div>"
      ],
      "text/plain": [
       "        FROM_EDITED             TO_EDITED                 FROM_COORDINATES  \\\n",
       "0  Hyderabad, India  Vishakapatnam, India  [17.41500345, 78.4193658848225]   \n",
       "1     Mumbai, India           Pune, India         [18.9321862, 72.8308337]   \n",
       "2    Chennai, India      Thanjavur, India         [13.0801721, 80.2838331]   \n",
       "3      Kochi, India     Coimbatore, India          [9.9633864, 76.2536614]   \n",
       "4  Bengaluru, India         Mysuru, India         [12.9791198, 77.5912997]   \n",
       "\n",
       "                    TO_COORDINATES  \n",
       "0  [17.72131135, 83.2900511199386]  \n",
       "1         [18.5203062, 73.8543185]  \n",
       "2         [10.7860689, 79.1381282]  \n",
       "3         [11.0018115, 76.9628425]  \n",
       "4         [12.3051828, 76.6553609]  "
      ]
     },
     "execution_count": 60,
     "metadata": {},
     "output_type": "execute_result"
    }
   ],
   "source": [
    "df"
   ]
  },
  {
   "cell_type": "code",
   "execution_count": 33,
   "metadata": {
    "collapsed": true
   },
   "outputs": [],
   "source": [
    "df=pandas.read_excel(\"master_nodes.xlsx\",sheetname=\"Nodes\")"
   ]
  },
  {
   "cell_type": "code",
   "execution_count": 34,
   "metadata": {},
   "outputs": [
    {
     "data": {
      "text/html": [
       "<div>\n",
       "<style>\n",
       "    .dataframe thead tr:only-child th {\n",
       "        text-align: right;\n",
       "    }\n",
       "\n",
       "    .dataframe thead th {\n",
       "        text-align: left;\n",
       "    }\n",
       "\n",
       "    .dataframe tbody tr th {\n",
       "        vertical-align: top;\n",
       "    }\n",
       "</style>\n",
       "<table border=\"1\" class=\"dataframe\">\n",
       "  <thead>\n",
       "    <tr style=\"text-align: right;\">\n",
       "      <th></th>\n",
       "      <th>FROM</th>\n",
       "      <th>TO</th>\n",
       "      <th>FROM NODE ID</th>\n",
       "      <th>TO NODE ID</th>\n",
       "      <th>FROM NODE TYPE</th>\n",
       "      <th>TO NODE TYPE</th>\n",
       "      <th>LINK ID</th>\n",
       "      <th>Distance</th>\n",
       "      <th>AMPLIFIERS NODES</th>\n",
       "      <th>AMPLIFIERS TYPE</th>\n",
       "    </tr>\n",
       "  </thead>\n",
       "  <tbody>\n",
       "    <tr>\n",
       "      <th>0</th>\n",
       "      <td>Hyderabad</td>\n",
       "      <td>Vishakapatnam</td>\n",
       "      <td>2</td>\n",
       "      <td>7</td>\n",
       "      <td>S</td>\n",
       "      <td>S</td>\n",
       "      <td>12</td>\n",
       "      <td>100</td>\n",
       "      <td>None</td>\n",
       "      <td>None</td>\n",
       "    </tr>\n",
       "    <tr>\n",
       "      <th>1</th>\n",
       "      <td>Mumbai</td>\n",
       "      <td>Pune</td>\n",
       "      <td>3</td>\n",
       "      <td>8</td>\n",
       "      <td>M</td>\n",
       "      <td>M</td>\n",
       "      <td>13</td>\n",
       "      <td>200</td>\n",
       "      <td>None</td>\n",
       "      <td>None</td>\n",
       "    </tr>\n",
       "    <tr>\n",
       "      <th>2</th>\n",
       "      <td>Chennai</td>\n",
       "      <td>Thanjavur</td>\n",
       "      <td>4</td>\n",
       "      <td>9</td>\n",
       "      <td>T</td>\n",
       "      <td>T</td>\n",
       "      <td>14</td>\n",
       "      <td>300</td>\n",
       "      <td>None</td>\n",
       "      <td>None</td>\n",
       "    </tr>\n",
       "    <tr>\n",
       "      <th>3</th>\n",
       "      <td>Kochi</td>\n",
       "      <td>Coimbatore</td>\n",
       "      <td>5</td>\n",
       "      <td>10</td>\n",
       "      <td>S</td>\n",
       "      <td>S</td>\n",
       "      <td>15</td>\n",
       "      <td>400</td>\n",
       "      <td>None</td>\n",
       "      <td>None</td>\n",
       "    </tr>\n",
       "    <tr>\n",
       "      <th>4</th>\n",
       "      <td>Bengaluru</td>\n",
       "      <td>Mysuru</td>\n",
       "      <td>1</td>\n",
       "      <td>6</td>\n",
       "      <td>L</td>\n",
       "      <td>L</td>\n",
       "      <td>11</td>\n",
       "      <td>500</td>\n",
       "      <td>Ramanagara, Madduru</td>\n",
       "      <td>A, B</td>\n",
       "    </tr>\n",
       "  </tbody>\n",
       "</table>\n",
       "</div>"
      ],
      "text/plain": [
       "        FROM             TO  FROM NODE ID  TO NODE ID FROM NODE TYPE  \\\n",
       "0  Hyderabad  Vishakapatnam             2           7              S   \n",
       "1     Mumbai           Pune             3           8              M   \n",
       "2    Chennai      Thanjavur             4           9              T   \n",
       "3      Kochi     Coimbatore             5          10              S   \n",
       "4  Bengaluru         Mysuru             1           6              L   \n",
       "\n",
       "  TO NODE TYPE  LINK ID  Distance     AMPLIFIERS NODES AMPLIFIERS TYPE  \n",
       "0            S       12       100                 None            None  \n",
       "1            M       13       200                 None            None  \n",
       "2            T       14       300                 None            None  \n",
       "3            S       15       400                 None            None  \n",
       "4            L       11       500  Ramanagara, Madduru            A, B  "
      ]
     },
     "execution_count": 34,
     "metadata": {},
     "output_type": "execute_result"
    }
   ],
   "source": [
    "df"
   ]
  },
  {
   "cell_type": "code",
   "execution_count": 61,
   "metadata": {
    "collapsed": true
   },
   "outputs": [],
   "source": [
    "df_metadata = pandas.read_excel(\"master_nodes.xlsx\",sheetname=\"Nodes_metadata\")"
   ]
  },
  {
   "cell_type": "code",
   "execution_count": 62,
   "metadata": {},
   "outputs": [
    {
     "data": {
      "text/html": [
       "<div>\n",
       "<style>\n",
       "    .dataframe thead tr:only-child th {\n",
       "        text-align: right;\n",
       "    }\n",
       "\n",
       "    .dataframe thead th {\n",
       "        text-align: left;\n",
       "    }\n",
       "\n",
       "    .dataframe tbody tr th {\n",
       "        vertical-align: top;\n",
       "    }\n",
       "</style>\n",
       "<table border=\"1\" class=\"dataframe\">\n",
       "  <thead>\n",
       "    <tr style=\"text-align: right;\">\n",
       "      <th></th>\n",
       "      <th>FROM_EDITED</th>\n",
       "      <th>TO_EDITED</th>\n",
       "      <th>FROM_COORDINATES</th>\n",
       "      <th>TO_COORDINATES</th>\n",
       "    </tr>\n",
       "  </thead>\n",
       "  <tbody>\n",
       "    <tr>\n",
       "      <th>0</th>\n",
       "      <td>Hyderabad, India</td>\n",
       "      <td>Vishakapatnam, India</td>\n",
       "      <td>[17.41500345, 78.4193658848225]</td>\n",
       "      <td>[17.72131135, 83.2900511199386]</td>\n",
       "    </tr>\n",
       "    <tr>\n",
       "      <th>1</th>\n",
       "      <td>Mumbai, India</td>\n",
       "      <td>Pune, India</td>\n",
       "      <td>[18.9321862, 72.8308337]</td>\n",
       "      <td>[18.5203062, 73.8543185]</td>\n",
       "    </tr>\n",
       "    <tr>\n",
       "      <th>2</th>\n",
       "      <td>Chennai, India</td>\n",
       "      <td>Thanjavur, India</td>\n",
       "      <td>[13.0801721, 80.2838331]</td>\n",
       "      <td>[10.7860689, 79.1381282]</td>\n",
       "    </tr>\n",
       "    <tr>\n",
       "      <th>3</th>\n",
       "      <td>Kochi, India</td>\n",
       "      <td>Coimbatore, India</td>\n",
       "      <td>[9.9633864, 76.2536614]</td>\n",
       "      <td>[11.0018115, 76.9628425]</td>\n",
       "    </tr>\n",
       "    <tr>\n",
       "      <th>4</th>\n",
       "      <td>Bengaluru, India</td>\n",
       "      <td>Mysuru, India</td>\n",
       "      <td>[12.9791198, 77.5912997]</td>\n",
       "      <td>[12.3051828, 76.6553609]</td>\n",
       "    </tr>\n",
       "  </tbody>\n",
       "</table>\n",
       "</div>"
      ],
      "text/plain": [
       "        FROM_EDITED             TO_EDITED                 FROM_COORDINATES  \\\n",
       "0  Hyderabad, India  Vishakapatnam, India  [17.41500345, 78.4193658848225]   \n",
       "1     Mumbai, India           Pune, India         [18.9321862, 72.8308337]   \n",
       "2    Chennai, India      Thanjavur, India         [13.0801721, 80.2838331]   \n",
       "3      Kochi, India     Coimbatore, India          [9.9633864, 76.2536614]   \n",
       "4  Bengaluru, India         Mysuru, India         [12.9791198, 77.5912997]   \n",
       "\n",
       "                    TO_COORDINATES  \n",
       "0  [17.72131135, 83.2900511199386]  \n",
       "1         [18.5203062, 73.8543185]  \n",
       "2         [10.7860689, 79.1381282]  \n",
       "3         [11.0018115, 76.9628425]  \n",
       "4         [12.3051828, 76.6553609]  "
      ]
     },
     "execution_count": 62,
     "metadata": {},
     "output_type": "execute_result"
    }
   ],
   "source": [
    "df_metadata"
   ]
  },
  {
   "cell_type": "code",
   "execution_count": 52,
   "metadata": {
    "collapsed": true
   },
   "outputs": [],
   "source": [
    "df_metadata[\"FROM_EDITED\"] = df[\"FROM\"] + \", India\"\n",
    "df_metadata[\"TO_EDITED\"] = df[\"FROM\"] + \", India\""
   ]
  },
  {
   "cell_type": "code",
   "execution_count": 65,
   "metadata": {},
   "outputs": [
    {
     "data": {
      "text/plain": [
       "'[18.9321862, 72.8308337]'"
      ]
     },
     "execution_count": 65,
     "metadata": {},
     "output_type": "execute_result"
    }
   ],
   "source": [
    "df_metadata.loc[1,\"FROM_COORDINATES\"]"
   ]
  },
  {
   "cell_type": "code",
   "execution_count": 55,
   "metadata": {
    "collapsed": true
   },
   "outputs": [],
   "source": [
    "book = load_workbook('master_nodes.xlsx')\n",
    "writer = pandas.ExcelWriter('master_nodes.xlsx', engine='openpyxl')\n",
    "writer.book = book\n",
    "writer.sheets = dict((ws.title, ws) for ws in book.worksheets)\n",
    "df_metadata.to_excel(writer, \"Nodes_metadata\")\n",
    "writer.save()"
   ]
  },
  {
   "cell_type": "code",
   "execution_count": 56,
   "metadata": {},
   "outputs": [
    {
     "data": {
      "text/html": [
       "<div>\n",
       "<style>\n",
       "    .dataframe thead tr:only-child th {\n",
       "        text-align: right;\n",
       "    }\n",
       "\n",
       "    .dataframe thead th {\n",
       "        text-align: left;\n",
       "    }\n",
       "\n",
       "    .dataframe tbody tr th {\n",
       "        vertical-align: top;\n",
       "    }\n",
       "</style>\n",
       "<table border=\"1\" class=\"dataframe\">\n",
       "  <thead>\n",
       "    <tr style=\"text-align: right;\">\n",
       "      <th></th>\n",
       "      <th>FROM</th>\n",
       "      <th>TO</th>\n",
       "      <th>FROM NODE ID</th>\n",
       "      <th>TO NODE ID</th>\n",
       "      <th>FROM NODE TYPE</th>\n",
       "      <th>TO NODE TYPE</th>\n",
       "      <th>LINK ID</th>\n",
       "      <th>Distance</th>\n",
       "      <th>AMPLIFIERS NODES</th>\n",
       "      <th>AMPLIFIERS TYPE</th>\n",
       "    </tr>\n",
       "  </thead>\n",
       "  <tbody>\n",
       "    <tr>\n",
       "      <th>0</th>\n",
       "      <td>Hyderabad</td>\n",
       "      <td>Vishakapatnam</td>\n",
       "      <td>2</td>\n",
       "      <td>7</td>\n",
       "      <td>S</td>\n",
       "      <td>S</td>\n",
       "      <td>12</td>\n",
       "      <td>100</td>\n",
       "      <td>None</td>\n",
       "      <td>None</td>\n",
       "    </tr>\n",
       "    <tr>\n",
       "      <th>1</th>\n",
       "      <td>Mumbai</td>\n",
       "      <td>Pune</td>\n",
       "      <td>3</td>\n",
       "      <td>8</td>\n",
       "      <td>M</td>\n",
       "      <td>M</td>\n",
       "      <td>13</td>\n",
       "      <td>200</td>\n",
       "      <td>None</td>\n",
       "      <td>None</td>\n",
       "    </tr>\n",
       "    <tr>\n",
       "      <th>2</th>\n",
       "      <td>Chennai</td>\n",
       "      <td>Thanjavur</td>\n",
       "      <td>4</td>\n",
       "      <td>9</td>\n",
       "      <td>T</td>\n",
       "      <td>T</td>\n",
       "      <td>14</td>\n",
       "      <td>300</td>\n",
       "      <td>None</td>\n",
       "      <td>None</td>\n",
       "    </tr>\n",
       "    <tr>\n",
       "      <th>3</th>\n",
       "      <td>Kochi</td>\n",
       "      <td>Coimbatore</td>\n",
       "      <td>5</td>\n",
       "      <td>10</td>\n",
       "      <td>S</td>\n",
       "      <td>S</td>\n",
       "      <td>15</td>\n",
       "      <td>400</td>\n",
       "      <td>None</td>\n",
       "      <td>None</td>\n",
       "    </tr>\n",
       "    <tr>\n",
       "      <th>4</th>\n",
       "      <td>Bengaluru</td>\n",
       "      <td>Mysuru</td>\n",
       "      <td>1</td>\n",
       "      <td>6</td>\n",
       "      <td>L</td>\n",
       "      <td>L</td>\n",
       "      <td>11</td>\n",
       "      <td>500</td>\n",
       "      <td>Ramanagara, Madduru</td>\n",
       "      <td>A, B</td>\n",
       "    </tr>\n",
       "  </tbody>\n",
       "</table>\n",
       "</div>"
      ],
      "text/plain": [
       "        FROM             TO  FROM NODE ID  TO NODE ID FROM NODE TYPE  \\\n",
       "0  Hyderabad  Vishakapatnam             2           7              S   \n",
       "1     Mumbai           Pune             3           8              M   \n",
       "2    Chennai      Thanjavur             4           9              T   \n",
       "3      Kochi     Coimbatore             5          10              S   \n",
       "4  Bengaluru         Mysuru             1           6              L   \n",
       "\n",
       "  TO NODE TYPE  LINK ID  Distance     AMPLIFIERS NODES AMPLIFIERS TYPE  \n",
       "0            S       12       100                 None            None  \n",
       "1            M       13       200                 None            None  \n",
       "2            T       14       300                 None            None  \n",
       "3            S       15       400                 None            None  \n",
       "4            L       11       500  Ramanagara, Madduru            A, B  "
      ]
     },
     "execution_count": 56,
     "metadata": {},
     "output_type": "execute_result"
    }
   ],
   "source": [
    "df"
   ]
  },
  {
   "cell_type": "code",
   "execution_count": 57,
   "metadata": {},
   "outputs": [
    {
     "data": {
      "text/html": [
       "<div>\n",
       "<style>\n",
       "    .dataframe thead tr:only-child th {\n",
       "        text-align: right;\n",
       "    }\n",
       "\n",
       "    .dataframe thead th {\n",
       "        text-align: left;\n",
       "    }\n",
       "\n",
       "    .dataframe tbody tr th {\n",
       "        vertical-align: top;\n",
       "    }\n",
       "</style>\n",
       "<table border=\"1\" class=\"dataframe\">\n",
       "  <thead>\n",
       "    <tr style=\"text-align: right;\">\n",
       "      <th></th>\n",
       "      <th>FROM_EDITED</th>\n",
       "      <th>TO_EDITED</th>\n",
       "    </tr>\n",
       "  </thead>\n",
       "  <tbody>\n",
       "    <tr>\n",
       "      <th>0</th>\n",
       "      <td>Hyderabad, India</td>\n",
       "      <td>Hyderabad, India</td>\n",
       "    </tr>\n",
       "    <tr>\n",
       "      <th>1</th>\n",
       "      <td>Mumbai, India</td>\n",
       "      <td>Mumbai, India</td>\n",
       "    </tr>\n",
       "    <tr>\n",
       "      <th>2</th>\n",
       "      <td>Chennai, India</td>\n",
       "      <td>Chennai, India</td>\n",
       "    </tr>\n",
       "    <tr>\n",
       "      <th>3</th>\n",
       "      <td>Kochi, India</td>\n",
       "      <td>Kochi, India</td>\n",
       "    </tr>\n",
       "    <tr>\n",
       "      <th>4</th>\n",
       "      <td>Bengaluru, India</td>\n",
       "      <td>Bengaluru, India</td>\n",
       "    </tr>\n",
       "  </tbody>\n",
       "</table>\n",
       "</div>"
      ],
      "text/plain": [
       "        FROM_EDITED         TO_EDITED\n",
       "0  Hyderabad, India  Hyderabad, India\n",
       "1     Mumbai, India     Mumbai, India\n",
       "2    Chennai, India    Chennai, India\n",
       "3      Kochi, India      Kochi, India\n",
       "4  Bengaluru, India  Bengaluru, India"
      ]
     },
     "execution_count": 57,
     "metadata": {},
     "output_type": "execute_result"
    }
   ],
   "source": [
    "df_metadata"
   ]
  },
  {
   "cell_type": "code",
   "execution_count": 58,
   "metadata": {
    "collapsed": true
   },
   "outputs": [],
   "source": [
    "df_metadata.apply?"
   ]
  },
  {
   "cell_type": "code",
   "execution_count": null,
   "metadata": {
    "collapsed": true
   },
   "outputs": [],
   "source": []
  },
  {
   "cell_type": "code",
   "execution_count": null,
   "metadata": {
    "collapsed": true
   },
   "outputs": [],
   "source": []
  },
  {
   "cell_type": "code",
   "execution_count": null,
   "metadata": {
    "collapsed": true
   },
   "outputs": [],
   "source": []
  },
  {
   "cell_type": "code",
   "execution_count": null,
   "metadata": {
    "collapsed": true
   },
   "outputs": [],
   "source": []
  },
  {
   "cell_type": "code",
   "execution_count": null,
   "metadata": {
    "collapsed": true
   },
   "outputs": [],
   "source": []
  },
  {
   "cell_type": "code",
   "execution_count": null,
   "metadata": {
    "collapsed": true
   },
   "outputs": [],
   "source": []
  },
  {
   "cell_type": "code",
   "execution_count": null,
   "metadata": {
    "collapsed": true
   },
   "outputs": [],
   "source": []
  },
  {
   "cell_type": "code",
   "execution_count": null,
   "metadata": {
    "collapsed": true
   },
   "outputs": [],
   "source": []
  },
  {
   "cell_type": "code",
   "execution_count": null,
   "metadata": {
    "collapsed": true
   },
   "outputs": [],
   "source": []
  },
  {
   "cell_type": "code",
   "execution_count": null,
   "metadata": {
    "collapsed": true
   },
   "outputs": [],
   "source": []
  },
  {
   "cell_type": "code",
   "execution_count": null,
   "metadata": {
    "collapsed": true
   },
   "outputs": [],
   "source": []
  },
  {
   "cell_type": "code",
   "execution_count": null,
   "metadata": {
    "collapsed": true
   },
   "outputs": [],
   "source": []
  },
  {
   "cell_type": "code",
   "execution_count": 67,
   "metadata": {
    "collapsed": true
   },
   "outputs": [],
   "source": [
    "df = pandas.read_excel(\"master_nodes.xlsx\",sheetname=\"Nodes\")"
   ]
  },
  {
   "cell_type": "code",
   "execution_count": 72,
   "metadata": {
    "collapsed": true
   },
   "outputs": [],
   "source": [
    "df_m = pandas.read_excel(\"master_nodes.xlsx\",sheetname=\"Nodes_metadata\")"
   ]
  },
  {
   "cell_type": "code",
   "execution_count": 73,
   "metadata": {},
   "outputs": [
    {
     "data": {
      "text/html": [
       "<div>\n",
       "<style>\n",
       "    .dataframe thead tr:only-child th {\n",
       "        text-align: right;\n",
       "    }\n",
       "\n",
       "    .dataframe thead th {\n",
       "        text-align: left;\n",
       "    }\n",
       "\n",
       "    .dataframe tbody tr th {\n",
       "        vertical-align: top;\n",
       "    }\n",
       "</style>\n",
       "<table border=\"1\" class=\"dataframe\">\n",
       "  <thead>\n",
       "    <tr style=\"text-align: right;\">\n",
       "      <th></th>\n",
       "      <th>FROM</th>\n",
       "      <th>TO</th>\n",
       "      <th>FROM NODE ID</th>\n",
       "      <th>TO NODE ID</th>\n",
       "      <th>FROM NODE TYPE</th>\n",
       "      <th>TO NODE TYPE</th>\n",
       "      <th>LINK ID</th>\n",
       "      <th>Distance</th>\n",
       "      <th>AMPLIFIERS NODES</th>\n",
       "      <th>AMPLIFIERS TYPE</th>\n",
       "    </tr>\n",
       "  </thead>\n",
       "  <tbody>\n",
       "    <tr>\n",
       "      <th>0</th>\n",
       "      <td>Hyderabad</td>\n",
       "      <td>Vishakapatnam</td>\n",
       "      <td>2</td>\n",
       "      <td>7</td>\n",
       "      <td>S</td>\n",
       "      <td>S</td>\n",
       "      <td>12</td>\n",
       "      <td>100</td>\n",
       "      <td>None</td>\n",
       "      <td>None</td>\n",
       "    </tr>\n",
       "    <tr>\n",
       "      <th>1</th>\n",
       "      <td>Mumbai</td>\n",
       "      <td>Pune</td>\n",
       "      <td>3</td>\n",
       "      <td>8</td>\n",
       "      <td>M</td>\n",
       "      <td>M</td>\n",
       "      <td>13</td>\n",
       "      <td>200</td>\n",
       "      <td>None</td>\n",
       "      <td>None</td>\n",
       "    </tr>\n",
       "    <tr>\n",
       "      <th>2</th>\n",
       "      <td>Chennai</td>\n",
       "      <td>Thanjavur</td>\n",
       "      <td>4</td>\n",
       "      <td>9</td>\n",
       "      <td>T</td>\n",
       "      <td>T</td>\n",
       "      <td>14</td>\n",
       "      <td>300</td>\n",
       "      <td>None</td>\n",
       "      <td>None</td>\n",
       "    </tr>\n",
       "    <tr>\n",
       "      <th>3</th>\n",
       "      <td>Kochi</td>\n",
       "      <td>Coimbatore</td>\n",
       "      <td>5</td>\n",
       "      <td>10</td>\n",
       "      <td>S</td>\n",
       "      <td>S</td>\n",
       "      <td>15</td>\n",
       "      <td>400</td>\n",
       "      <td>None</td>\n",
       "      <td>None</td>\n",
       "    </tr>\n",
       "    <tr>\n",
       "      <th>4</th>\n",
       "      <td>Bengaluru</td>\n",
       "      <td>Mysuru</td>\n",
       "      <td>1</td>\n",
       "      <td>6</td>\n",
       "      <td>L</td>\n",
       "      <td>L</td>\n",
       "      <td>11</td>\n",
       "      <td>500</td>\n",
       "      <td>Ramanagara, Madduru</td>\n",
       "      <td>A, B</td>\n",
       "    </tr>\n",
       "  </tbody>\n",
       "</table>\n",
       "</div>"
      ],
      "text/plain": [
       "        FROM             TO  FROM NODE ID  TO NODE ID FROM NODE TYPE  \\\n",
       "0  Hyderabad  Vishakapatnam             2           7              S   \n",
       "1     Mumbai           Pune             3           8              M   \n",
       "2    Chennai      Thanjavur             4           9              T   \n",
       "3      Kochi     Coimbatore             5          10              S   \n",
       "4  Bengaluru         Mysuru             1           6              L   \n",
       "\n",
       "  TO NODE TYPE  LINK ID  Distance     AMPLIFIERS NODES AMPLIFIERS TYPE  \n",
       "0            S       12       100                 None            None  \n",
       "1            M       13       200                 None            None  \n",
       "2            T       14       300                 None            None  \n",
       "3            S       15       400                 None            None  \n",
       "4            L       11       500  Ramanagara, Madduru            A, B  "
      ]
     },
     "execution_count": 73,
     "metadata": {},
     "output_type": "execute_result"
    }
   ],
   "source": [
    "df"
   ]
  },
  {
   "cell_type": "code",
   "execution_count": 74,
   "metadata": {},
   "outputs": [
    {
     "data": {
      "text/html": [
       "<div>\n",
       "<style>\n",
       "    .dataframe thead tr:only-child th {\n",
       "        text-align: right;\n",
       "    }\n",
       "\n",
       "    .dataframe thead th {\n",
       "        text-align: left;\n",
       "    }\n",
       "\n",
       "    .dataframe tbody tr th {\n",
       "        vertical-align: top;\n",
       "    }\n",
       "</style>\n",
       "<table border=\"1\" class=\"dataframe\">\n",
       "  <thead>\n",
       "    <tr style=\"text-align: right;\">\n",
       "      <th></th>\n",
       "      <th>FROM_EDITED</th>\n",
       "      <th>TO_EDITED</th>\n",
       "      <th>FROM_COORDINATES</th>\n",
       "      <th>TO_COORDINATES</th>\n",
       "    </tr>\n",
       "  </thead>\n",
       "  <tbody>\n",
       "    <tr>\n",
       "      <th>0</th>\n",
       "      <td>Hyderabad, India</td>\n",
       "      <td>Vishakapatnam, India</td>\n",
       "      <td>[17.41500345, 78.4193658848225]</td>\n",
       "      <td>[17.72131135, 83.2900511199386]</td>\n",
       "    </tr>\n",
       "    <tr>\n",
       "      <th>1</th>\n",
       "      <td>Mumbai, India</td>\n",
       "      <td>Pune, India</td>\n",
       "      <td>[18.9321862, 72.8308337]</td>\n",
       "      <td>[18.5203062, 73.8543185]</td>\n",
       "    </tr>\n",
       "    <tr>\n",
       "      <th>2</th>\n",
       "      <td>Chennai, India</td>\n",
       "      <td>Thanjavur, India</td>\n",
       "      <td>[13.0801721, 80.2838331]</td>\n",
       "      <td>[10.7860689, 79.1381282]</td>\n",
       "    </tr>\n",
       "    <tr>\n",
       "      <th>3</th>\n",
       "      <td>Kochi, India</td>\n",
       "      <td>Coimbatore, India</td>\n",
       "      <td>[9.9633864, 76.2536614]</td>\n",
       "      <td>[11.0018115, 76.9628425]</td>\n",
       "    </tr>\n",
       "    <tr>\n",
       "      <th>4</th>\n",
       "      <td>Bengaluru, India</td>\n",
       "      <td>Mysuru, India</td>\n",
       "      <td>[12.9791198, 77.5912997]</td>\n",
       "      <td>[12.3051828, 76.6553609]</td>\n",
       "    </tr>\n",
       "  </tbody>\n",
       "</table>\n",
       "</div>"
      ],
      "text/plain": [
       "        FROM_EDITED             TO_EDITED                 FROM_COORDINATES  \\\n",
       "0  Hyderabad, India  Vishakapatnam, India  [17.41500345, 78.4193658848225]   \n",
       "1     Mumbai, India           Pune, India         [18.9321862, 72.8308337]   \n",
       "2    Chennai, India      Thanjavur, India         [13.0801721, 80.2838331]   \n",
       "3      Kochi, India     Coimbatore, India          [9.9633864, 76.2536614]   \n",
       "4  Bengaluru, India         Mysuru, India         [12.9791198, 77.5912997]   \n",
       "\n",
       "                    TO_COORDINATES  \n",
       "0  [17.72131135, 83.2900511199386]  \n",
       "1         [18.5203062, 73.8543185]  \n",
       "2         [10.7860689, 79.1381282]  \n",
       "3         [11.0018115, 76.9628425]  \n",
       "4         [12.3051828, 76.6553609]  "
      ]
     },
     "execution_count": 74,
     "metadata": {},
     "output_type": "execute_result"
    }
   ],
   "source": [
    "df_m"
   ]
  },
  {
   "cell_type": "code",
   "execution_count": 80,
   "metadata": {
    "collapsed": true
   },
   "outputs": [],
   "source": [
    "X = df_m.ix[0,\"FROM_COORDINATES\"]"
   ]
  },
  {
   "cell_type": "code",
   "execution_count": 81,
   "metadata": {},
   "outputs": [
    {
     "data": {
      "text/plain": [
       "['[',\n",
       " '1',\n",
       " '7',\n",
       " '.',\n",
       " '4',\n",
       " '1',\n",
       " '5',\n",
       " '0',\n",
       " '0',\n",
       " '3',\n",
       " '4',\n",
       " '5',\n",
       " ',',\n",
       " ' ',\n",
       " '7',\n",
       " '8',\n",
       " '.',\n",
       " '4',\n",
       " '1',\n",
       " '9',\n",
       " '3',\n",
       " '6',\n",
       " '5',\n",
       " '8',\n",
       " '8',\n",
       " '4',\n",
       " '8',\n",
       " '2',\n",
       " '2',\n",
       " '5',\n",
       " ']']"
      ]
     },
     "execution_count": 81,
     "metadata": {},
     "output_type": "execute_result"
    }
   ],
   "source": [
    "list(X)"
   ]
  },
  {
   "cell_type": "code",
   "execution_count": 132,
   "metadata": {
    "collapsed": true
   },
   "outputs": [],
   "source": [
    "X = '[17.41500345, 78.4193658848225]'"
   ]
  },
  {
   "cell_type": "code",
   "execution_count": 133,
   "metadata": {},
   "outputs": [
    {
     "data": {
      "text/plain": [
       "['17.41500345', ' 78.4193658848225']"
      ]
     },
     "execution_count": 133,
     "metadata": {},
     "output_type": "execute_result"
    }
   ],
   "source": [
    "X = X.split(\"[\")\n",
    "X = X[1].split(\"]\")\n",
    "X = X[0].split(\",\")\n",
    "X"
   ]
  },
  {
   "cell_type": "code",
   "execution_count": 126,
   "metadata": {},
   "outputs": [
    {
     "data": {
      "text/plain": [
       "['17.41500345, 78.4193658848225', '']"
      ]
     },
     "execution_count": 126,
     "metadata": {},
     "output_type": "execute_result"
    }
   ],
   "source": [
    "X=X[1].split(\"]\")\n",
    "X"
   ]
  },
  {
   "cell_type": "code",
   "execution_count": 128,
   "metadata": {},
   "outputs": [
    {
     "data": {
      "text/plain": [
       "['17.41500345, 78.4193658848225', '']"
      ]
     },
     "execution_count": 128,
     "metadata": {},
     "output_type": "execute_result"
    }
   ],
   "source": [
    "X"
   ]
  },
  {
   "cell_type": "code",
   "execution_count": 130,
   "metadata": {
    "collapsed": true
   },
   "outputs": [],
   "source": [
    "X = X[0].split(\",\")"
   ]
  },
  {
   "cell_type": "code",
   "execution_count": 131,
   "metadata": {},
   "outputs": [
    {
     "data": {
      "text/plain": [
       "['17.41500345', ' 78.4193658848225']"
      ]
     },
     "execution_count": 131,
     "metadata": {},
     "output_type": "execute_result"
    }
   ],
   "source": [
    "X"
   ]
  },
  {
   "cell_type": "code",
   "execution_count": 96,
   "metadata": {},
   "outputs": [
    {
     "data": {
      "text/plain": [
       "<function str.split>"
      ]
     },
     "execution_count": 96,
     "metadata": {},
     "output_type": "execute_result"
    }
   ],
   "source": [
    "Y"
   ]
  },
  {
   "cell_type": "code",
   "execution_count": 134,
   "metadata": {
    "collapsed": true
   },
   "outputs": [],
   "source": [
    "Z = \"17.41500345, 78.4193658848225\""
   ]
  },
  {
   "cell_type": "code",
   "execution_count": 135,
   "metadata": {},
   "outputs": [
    {
     "data": {
      "text/plain": [
       "['17.41500345', ' 78.4193658848225']"
      ]
     },
     "execution_count": 135,
     "metadata": {},
     "output_type": "execute_result"
    }
   ],
   "source": [
    "Z.split(\",\")"
   ]
  },
  {
   "cell_type": "code",
   "execution_count": 1,
   "metadata": {
    "collapsed": true
   },
   "outputs": [],
   "source": [
    "import folium"
   ]
  },
  {
   "cell_type": "code",
   "execution_count": 137,
   "metadata": {
    "collapsed": true
   },
   "outputs": [],
   "source": [
    "folium.Icon?"
   ]
  },
  {
   "cell_type": "code",
   "execution_count": 2,
   "metadata": {},
   "outputs": [
    {
     "data": {
      "text/plain": [
       "['CircleMarker',\n",
       " 'ClickForMarker',\n",
       " 'ColorMap',\n",
       " 'CssLink',\n",
       " 'CustomIcon',\n",
       " 'Div',\n",
       " 'DivIcon',\n",
       " 'Element',\n",
       " 'FeatureGroup',\n",
       " 'Figure',\n",
       " 'FitBounds',\n",
       " 'GeoJson',\n",
       " 'Html',\n",
       " 'IFrame',\n",
       " 'Icon',\n",
       " 'JavascriptLink',\n",
       " 'LatLngPopup',\n",
       " 'LayerControl',\n",
       " 'LinearColormap',\n",
       " 'Link',\n",
       " 'MacroElement',\n",
       " 'Map',\n",
       " 'Marker',\n",
       " 'MarkerCluster',\n",
       " 'PolyLine',\n",
       " 'Popup',\n",
       " 'RegularPolygonMarker',\n",
       " 'StepColormap',\n",
       " 'TileLayer',\n",
       " 'TopoJson',\n",
       " 'Vega',\n",
       " 'WmsTileLayer',\n",
       " '__all__',\n",
       " '__builtins__',\n",
       " '__cached__',\n",
       " '__doc__',\n",
       " '__file__',\n",
       " '__loader__',\n",
       " '__name__',\n",
       " '__package__',\n",
       " '__path__',\n",
       " '__spec__',\n",
       " '__version__',\n",
       " 'absolute_import',\n",
       " 'features',\n",
       " 'folium',\n",
       " 'map']"
      ]
     },
     "execution_count": 2,
     "metadata": {},
     "output_type": "execute_result"
    }
   ],
   "source": [
    "dir(folium)"
   ]
  },
  {
   "cell_type": "code",
   "execution_count": 5,
   "metadata": {},
   "outputs": [],
   "source": [
    "folium.LatLngPopup?"
   ]
  },
  {
   "cell_type": "code",
   "execution_count": null,
   "metadata": {
    "collapsed": true
   },
   "outputs": [],
   "source": []
  }
 ],
 "metadata": {
  "kernelspec": {
   "display_name": "Python 3",
   "language": "python",
   "name": "python3"
  },
  "language_info": {
   "codemirror_mode": {
    "name": "ipython",
    "version": 3
   },
   "file_extension": ".py",
   "mimetype": "text/x-python",
   "name": "python",
   "nbconvert_exporter": "python",
   "pygments_lexer": "ipython3",
   "version": "3.6.1"
  }
 },
 "nbformat": 4,
 "nbformat_minor": 2
}
